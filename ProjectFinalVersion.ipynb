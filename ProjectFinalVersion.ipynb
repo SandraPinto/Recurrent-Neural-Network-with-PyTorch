{
  "nbformat": 4,
  "nbformat_minor": 0,
  "metadata": {
    "colab": {
      "name": "ProjectFinalVersion.ipynb",
      "provenance": [],
      "collapsed_sections": [],
      "include_colab_link": true
    },
    "kernelspec": {
      "name": "python3",
      "display_name": "Python 3"
    }
  },
  "cells": [
    {
      "cell_type": "markdown",
      "metadata": {
        "id": "view-in-github",
        "colab_type": "text"
      },
      "source": [
        "<a href=\"https://colab.research.google.com/github/SandraPinto/Recurrent-Neural-Network-with-PyTorch/blob/main/ProjectFinalVersion.ipynb\" target=\"_parent\"><img src=\"https://colab.research.google.com/assets/colab-badge.svg\" alt=\"Open In Colab\"/></a>"
      ]
    },
    {
      "cell_type": "markdown",
      "metadata": {
        "id": "-AvfnKrWypdo"
      },
      "source": [
        "DATA 602 FINAL RESEARCH PROJECT\n",
        "\n",
        "SANDRA PINTO"
      ]
    },
    {
      "cell_type": "markdown",
      "metadata": {
        "id": "_-VEX_VXN2Cp"
      },
      "source": [
        "**SUMMARY**\n",
        "\n",
        "The name of the notebook I chose for my project is ***Recurrent Neural Network with PyTorch*** Tutorial from the Digit Recognizer Kaggle Competition using the popular MNIST data, which competition started 8 years ago (LINK TO NOTEBOOOK PROVIDED ON SOURCES SECTION BELOW). The notebook was created by the DATAI TEAM based in Turkey which has achieved the Notebooks grandmaster notation in Kaggle (DATAI TEAM,KAGGLE).\n",
        "My motivation to work with PyTorch instead of Tensorflow was to explore a DL framework that we have not discussed in class and apply it into creating a RNN (used for sequential data for text classifactions problems) to expand my skillset. Also, I was prompted to chose a high ranked notebook from a Kaggle competition.\n",
        "\n",
        "PyTorch is a popular deep learning framework developed by Facebook mainly used in academia and research with the purpose to replace numpy-like operations with GPU-accelerated operations and Build deep neural networks. PyTorch provides two kinds of data abstractions called tensors and variables.Tensors\n",
        "are similar to numpy arrays and they can also be used on GPUs, which provide increased performance.According to the book Deep Learning with PyTorch the main pros of PyTorch are; ease of use and simplicity, easier-to-debug nature, dynamic computation which allows greater flexibility in building complex architectures(unlike other popular DL frameworks),extensive use of Python concepts to build algorithms in a pure oject-oriented fashion,and strong growing support from various companies such as Salesforce (Subramanian, 2018, page. 16). Along with the pros also come the cons, a third-party is needed for visualization and there are limited references and resources outside of the official documentation.\n",
        "\n",
        "PyTorch and TensorFlow follow different approaches when it comes to visualization, deployment, development, and debugging. The Article PyTorch vs TensorFlow — spotting the difference, describes the main differeces between PyTorch and Tensorflow which are the following (Dubovikov,2018): \n",
        "*   While TensorFlow is produced by Google, PyTorch is maintained by Facebook.\n",
        "*   TensorFlow is older and has a larger community than PyTorch, which is a “new” version of the Torch library.\n",
        "*   TensorFlow is widely used in industry, while PyTorch is often used in academia.\n",
        "*   In terms of visualization Tensorflow does not need a third party unlike PyTorch\n",
        "*   In terms of deployment, TensorFlow is better because it lets you deploy your models on a specialized gRPC service and mobile is also supported. Otherwise, Python may use a flask or another alternative to code up a REST API on top of the model\n",
        "*   In TensorFlow you define the graphics statically before a model can be executed so it's more static.PyTorch is more imperative and dynamic. You can define, change and execute nodes as you like, no special session interfaces or placeholders.\n",
        "\n",
        "I encountered a few problems which were mostly debugging such as “file not found error” which I addressed by looking for the corresponding library path and updating my notebook with the library path name based on how I saved the repository date files in my drive. I decided to mount my drive into my notebook instead of uploading the data files as sample data so they don't disappear after a new session. However, I learned that importing my data this way was not very effective when sharing my data as other authorized users were not able to re-run my codes. Therefore, I imported the data files by using the shareable drive url.\n",
        "\n",
        "In the following lines we will be exploring building RNN using PyTorch and visualizing our findings."
      ]
    },
    {
      "cell_type": "markdown",
      "metadata": {
        "id": "i7qWEAo9VfrI"
      },
      "source": [
        "**EXERCISE**"
      ]
    },
    {
      "cell_type": "markdown",
      "metadata": {
        "id": "KwJ6MionLE37"
      },
      "source": [
        "In lines#1, I imported the initial packages and libraries such as numpy for linear algebra, pandas for data processing ,and matplotlib for plotting "
      ]
    },
    {
      "cell_type": "code",
      "metadata": {
        "id": "uTWe3ya5-bxV"
      },
      "source": [
        "import os\n",
        "import numpy as np # linear algebra \n",
        "import pandas as pd # data processing, CSV file I/O (e.g. pd.read_csv)\n",
        "import matplotlib.pyplot as plt"
      ],
      "execution_count": null,
      "outputs": []
    },
    {
      "cell_type": "markdown",
      "metadata": {
        "id": "xkdgBhQqMX79"
      },
      "source": [
        "In line#2, I Imported the necessary libraries and packages for implementing recurrent neural networks using PyTorch. Python APIs: torch for data structures for multidimensional sensors, torch n.n-module parameter, torch.autograd for classes and to implement automatic differentiation, sklearn to train the model, and torch.utils.data for data loading utility"
      ]
    },
    {
      "cell_type": "code",
      "metadata": {
        "id": "VDAlT4eOCkEi"
      },
      "source": [
        "import torch\n",
        "import torch.nn as nn\n",
        "from torch.autograd import Variable\n",
        "from sklearn.model_selection import train_test_split\n",
        "from torch.utils.data import DataLoader, TensorDataset"
      ],
      "execution_count": null,
      "outputs": []
    },
    {
      "cell_type": "markdown",
      "metadata": {
        "id": "48FqbiC0LkhE"
      },
      "source": [
        "In #3 I imported my shareable files from drive by using shearable URL"
      ]
    },
    {
      "cell_type": "code",
      "metadata": {
        "id": "C2YIBf5NGT6j"
      },
      "source": [
        "import pandas as pd\n",
        "url = \"https://drive.google.com/uc?export=download&id=1EcaiGFjYz4mZxXFDT3gHsrhm-87pNVdM\"\n",
        "df = pd.read_csv(url)"
      ],
      "execution_count": null,
      "outputs": []
    },
    {
      "cell_type": "markdown",
      "metadata": {
        "id": "Rs3qYteaMrk4"
      },
      "source": [
        "line#4-Preparing the Dataset \n",
        "1.   Prepared the data to load and training the train.csv file\n",
        "2.   Split into features (pixels) and labels from 0 to 9\n",
        "3.   Training the test split. Size of the train data is set at 80% and the size of test data is 20%, random state is 42\n",
        "4. We need a variable to accumulate gradients. Therefore, I created a tensor and later a variable. We train the features and targets for the train set and train the features and targets for the test set.\n",
        "5. The batch size used is 100 and the number of iterations is 10000\n",
        "6. Pytorch train and test sets\n",
        "7. I conducted dataloader for both train and test data\n",
        "8. I visualized one of the images from the dataset which in this case was a yellow number 8."
      ]
    },
    {
      "cell_type": "code",
      "metadata": {
        "id": "LEcaHmuxR0Pm",
        "outputId": "dd6c9efc-05f9-4605-e6cd-1297bfbaa304",
        "colab": {
          "base_uri": "https://localhost:8080/",
          "height": 264
        }
      },
      "source": [
        "train = pd.read_csv(\"https://drive.google.com/uc?export=download&id=1EcaiGFjYz4mZxXFDT3gHsrhm-87pNVdM\",dtype = np.float32)\n",
        "\n",
        "#2 split data into features(pixels) and labels(numbers from 0 to 9)\n",
        "targets_numpy = train.label.values\n",
        "features_numpy = train.loc[:,train.columns != \"label\"].values/255 # normalization\n",
        "\n",
        "#3 train test split. Size of train data is 80% and size of test data is 20%. \n",
        "features_train, features_test, targets_train, targets_test = train_test_split(features_numpy,\n",
        "                                                                             targets_numpy,\n",
        "                                                                             test_size = 0.2,\n",
        "                                                                             random_state = 42) \n",
        "#4 create feature and targets tensor for train set.\n",
        "featuresTrain = torch.from_numpy(features_train)\n",
        "targetsTrain = torch.from_numpy(targets_train).type(torch.LongTensor) # data type is long\n",
        "\n",
        "# create feature and targets tensor for test set.\n",
        "featuresTest = torch.from_numpy(features_test)\n",
        "targetsTest = torch.from_numpy(targets_test).type(torch.LongTensor) # data type is long\n",
        "\n",
        "#5 batch_size, epoch and iteration\n",
        "batch_size = 100\n",
        "n_iters = 10000\n",
        "num_epochs = n_iters / (len(features_train) / batch_size)\n",
        "num_epochs = int(num_epochs)\n",
        "\n",
        "#6 Pytorch train and test sets\n",
        "train = TensorDataset(featuresTrain,targetsTrain)\n",
        "test = TensorDataset(featuresTest,targetsTest)\n",
        "\n",
        "#7 data loader\n",
        "train_loader = DataLoader(train, batch_size = batch_size, shuffle = False)\n",
        "test_loader = DataLoader(test, batch_size = batch_size, shuffle = False)\n",
        "\n",
        "#8 visualize one of the images in data set\n",
        "plt.imshow(features_numpy[10].reshape(28,28))\n",
        "plt.axis(\"off\")\n",
        "plt.title(str(targets_numpy[10]))\n",
        "plt.savefig('graph.png')\n",
        "plt.show()"
      ],
      "execution_count": null,
      "outputs": [
        {
          "output_type": "display_data",
          "data": {
            "image/png": "[encoded data removed]",
            "text/plain": [
              "<Figure size 432x288 with 1 Axes>"
            ]
          },
          "metadata": {
            "tags": [],
            "needs_background": "light"
          }
        }
      ]
    },
    {
      "cell_type": "markdown",
      "metadata": {
        "id": "3HaLsPQqNUrQ"
      },
      "source": [
        "In line#5, I've created the RNN Model and set parameters including number of hidden dimensions, hidden layers, readout layer, input and output dimensions. Also, built the model for cross entropy loss (measures the performance of a classification model whose output is a probability value between 0 and 1) and set the parameters for SGD optimizer which are later calculated on line 6. \n",
        "\n",
        "\"A cross-entropy loss calculates the loss of a classification\n",
        "network predicting the probabilities, which should sum up to one, like our softmax layer.A cross-entropy loss increases when the predicted probability diverges from the correct\n",
        "probability\"(Subramanian, 2018, page.48)\n",
        "\n",
        "\"A SGD optimizer takes all the learnable\n",
        "parameters of your network as the first argument and a learning rate that determines what ratio of change can be made to the learnable parameter(Subramanian, 2018, page.50)\n",
        "\n",
        "The hidden layer dimension is set to 100 and number of hidden layers is 1. The number of maximum iterations used here is 8000, batch size 100, input dimension is 28 and output dimension is 10 and the learning rate at .05 or 5%. "
      ]
    },
    {
      "cell_type": "code",
      "metadata": {
        "id": "8m8dOy3vDAW_"
      },
      "source": [
        "# Create RNN Model\n",
        "class RNNModel(nn.Module):\n",
        "    def __init__(self, input_dim, hidden_dim, layer_dim, output_dim):\n",
        "        super(RNNModel, self).__init__()\n",
        "        \n",
        "        # Number of hidden dimensions\n",
        "        self.hidden_dim = hidden_dim\n",
        "        \n",
        "        # Number of hidden layers\n",
        "        self.layer_dim = layer_dim\n",
        "        \n",
        "        # RNN\n",
        "        self.rnn = nn.RNN(input_dim, hidden_dim, layer_dim, batch_first=True, nonlinearity='relu')\n",
        "        \n",
        "        # Readout layer\n",
        "        self.fc = nn.Linear(hidden_dim, output_dim)\n",
        "    \n",
        "    def forward(self, x):\n",
        "        \n",
        "        # Initialize hidden state with zeros\n",
        "        h0 = Variable(torch.zeros(self.layer_dim, x.size(0), self.hidden_dim))\n",
        "            \n",
        "        # One time step\n",
        "        out, hn = self.rnn(x, h0)\n",
        "        out = self.fc(out[:, -1, :]) \n",
        "        return out\n",
        "\n",
        "# batch_size, epoch and iteration\n",
        "batch_size = 100\n",
        "n_iters = 8000\n",
        "num_epochs = n_iters / (len(features_train) / batch_size)\n",
        "num_epochs = int(num_epochs)\n",
        "\n",
        "# Pytorch train and test sets\n",
        "train = TensorDataset(featuresTrain,targetsTrain)\n",
        "test = TensorDataset(featuresTest,targetsTest)\n",
        "\n",
        "# data loader\n",
        "train_loader = DataLoader(train, batch_size = batch_size, shuffle = False)\n",
        "test_loader = DataLoader(test, batch_size = batch_size, shuffle = False)\n",
        "    \n",
        "# Create RNN\n",
        "input_dim = 28    # input dimension\n",
        "hidden_dim = 100  # hidden layer dimension\n",
        "layer_dim = 1     # number of hidden layers\n",
        "output_dim = 10   # output dimension\n",
        "\n",
        "model = RNNModel(input_dim, hidden_dim, layer_dim, output_dim)\n",
        "\n",
        "# Cross Entropy Loss \n",
        "error = nn.CrossEntropyLoss()\n",
        "\n",
        "# SGD Optimizer\n",
        "learning_rate = 0.05\n",
        "optimizer = torch.optim.SGD(model.parameters(), lr=learning_rate)"
      ],
      "execution_count": null,
      "outputs": []
    },
    {
      "cell_type": "markdown",
      "metadata": {
        "id": "HOOwdHNESfP4"
      },
      "source": [
        "In line #6, I cleared the gradients by setting it to zero, I called a forward propagation to model(train) and later model(images). I calculated the cross entropy loss using Softmax activation (used for multi-class classification) updating the paramaters. Besides from calculating the loss, I also called the backward operation, which calculates the gradients of our learnable parameters. Then, called backward on the loss function, which calculates the gradients, I called optimizer.step(), which makes the actual changes to our learnable parameter. The loss is accumulated across batches for each epoch. \n",
        "\n",
        "The accuracy is set at 100% which is the max output. I set 500 = 0 as the starting point or minimum number of iterations. We predict based on the maximum value (output). For every iteration, we calculate the\n",
        "outputs for loss and accuracy. \n",
        "By printing the loss we can conclude that at 7500 iterations, the accuracy is the highest. The loss can vary(not linear), for instance at 7000 iterations the loss is high but the accuracy is high as well. "
      ]
    },
    {
      "cell_type": "code",
      "metadata": {
        "id": "OYB4sl15DbG_",
        "outputId": "5171c1aa-ad7e-44a0-de10-4f60e3cd1cec",
        "colab": {
          "base_uri": "https://localhost:8080/",
          "height": 272
        }
      },
      "source": [
        "seq_dim = 28  \n",
        "loss_list = []\n",
        "iteration_list = []\n",
        "accuracy_list = []\n",
        "count = 0\n",
        "for epoch in range(num_epochs):\n",
        "    for i, (images, labels) in enumerate(train_loader):\n",
        "\n",
        "        train  = Variable(images.view(-1, seq_dim, input_dim))\n",
        "        labels = Variable(labels )\n",
        "            \n",
        "        # Clear gradients\n",
        "        optimizer.zero_grad()\n",
        "        \n",
        "        # Forward propagation\n",
        "        outputs = model(train)\n",
        "        \n",
        "        # Calculate softmax and ross entropy loss\n",
        "        loss = error(outputs, labels)\n",
        "        \n",
        "        # Calculating gradients\n",
        "        loss.backward()\n",
        "        \n",
        "        # Update parameters\n",
        "        optimizer.step()\n",
        "        \n",
        "        count += 1\n",
        "        \n",
        "        if count % 250 == 0:\n",
        "            # Calculate Accuracy         \n",
        "            correct = 0\n",
        "            total = 0\n",
        "            # Iterate through test dataset\n",
        "            for images, labels in test_loader:\n",
        "                images = Variable(images.view(-1, seq_dim, input_dim))\n",
        "                \n",
        "                # Forward propagation\n",
        "                outputs = model(images)\n",
        "                \n",
        "                # Get predictions from the maximum value\n",
        "                predicted = torch.max(outputs.data, 1)[1]\n",
        "                \n",
        "                # Total number of labels\n",
        "                total += labels.size(0)\n",
        "                \n",
        "                correct += (predicted == labels).sum()\n",
        "            \n",
        "            accuracy = 100 * correct / float(total)\n",
        "            \n",
        "            # store loss and iteration\n",
        "            loss_list.append(loss.data)\n",
        "            iteration_list.append(count)\n",
        "            accuracy_list.append(accuracy)\n",
        "\n",
        "            # store loss and iteration\n",
        "            loss_list.append(loss.data)\n",
        "            iteration_list.append(count)\n",
        "            accuracy_list.append(accuracy)\n",
        "            if count % 500 == 0:\n",
        "                # Print Loss\n",
        "                print('Iteration: {}  Loss: {}  Accuracy: {} %'.format(count, loss.data, accuracy))\n"
      ],
      "execution_count": null,
      "outputs": [
        {
          "output_type": "stream",
          "text": [
            "Iteration: 500  Loss: 2.139401912689209  Accuracy: 24.58333396911621 %\n",
            "Iteration: 1000  Loss: 1.0602144002914429  Accuracy: 54.7976188659668 %\n",
            "Iteration: 1500  Loss: 0.7234361171722412  Accuracy: 80.14286041259766 %\n",
            "Iteration: 2000  Loss: 0.3809773325920105  Accuracy: 83.77381134033203 %\n",
            "Iteration: 2500  Loss: 0.1969839334487915  Accuracy: 89.17857360839844 %\n",
            "Iteration: 3000  Loss: 0.1994304209947586  Accuracy: 92.02381134033203 %\n",
            "Iteration: 3500  Loss: 0.2909468412399292  Accuracy: 91.98809814453125 %\n",
            "Iteration: 4000  Loss: 0.11790356040000916  Accuracy: 94.0 %\n",
            "Iteration: 4500  Loss: 0.35648849606513977  Accuracy: 94.20237731933594 %\n",
            "Iteration: 5000  Loss: 0.12384200841188431  Accuracy: 95.16666412353516 %\n",
            "Iteration: 5500  Loss: 0.33108359575271606  Accuracy: 95.27381134033203 %\n",
            "Iteration: 6000  Loss: 0.16564230620861053  Accuracy: 95.48809814453125 %\n",
            "Iteration: 6500  Loss: 0.10884163528680801  Accuracy: 95.04762268066406 %\n",
            "Iteration: 7000  Loss: 0.21673549711704254  Accuracy: 94.21428680419922 %\n",
            "Iteration: 7500  Loss: 0.18285369873046875  Accuracy: 94.54762268066406 %\n"
          ],
          "name": "stdout"
        }
      ]
    },
    {
      "cell_type": "markdown",
      "metadata": {
        "id": "Ew-YRyVJSTsb"
      },
      "source": [
        "In  line#8, we are visualizing the loss and the accuracy which confirms my predictions."
      ]
    },
    {
      "cell_type": "code",
      "metadata": {
        "id": "XYTWbmWsJtbL",
        "outputId": "4addb5cd-b3c3-456b-90bc-8590522433b3",
        "colab": {
          "base_uri": "https://localhost:8080/",
          "height": 573
        }
      },
      "source": [
        "# visualization loss \n",
        "plt.plot(iteration_list,loss_list)\n",
        "plt.xlabel(\"Number of iteration\")\n",
        "plt.ylabel(\"Loss\")\n",
        "plt.title(\"RNN: Loss vs Number of iteration\")\n",
        "plt.show()\n",
        "\n",
        "# visualization accuracy \n",
        "plt.plot(iteration_list,accuracy_list,color = \"red\")\n",
        "plt.xlabel(\"Number of iteration\")\n",
        "plt.ylabel(\"Accuracy\")\n",
        "plt.title(\"RNN: Accuracy vs Number of iteration\")\n",
        "plt.savefig('graph.png')\n",
        "plt.show()"
      ],
      "execution_count": null,
      "outputs": [
        {
          "output_type": "display_data",
          "data": {
            "image/png": "[encoded data removed]",
            "text/plain": [
              "<Figure size 432x288 with 1 Axes>"
            ]
          },
          "metadata": {
            "tags": [],
            "needs_background": "light"
          }
        },
        {
          "output_type": "display_data",
          "data": {
            "image/png": "[encoded data removed]",
            "text/plain": [
              "<Figure size 432x288 with 1 Axes>"
            ]
          },
          "metadata": {
            "tags": [],
            "needs_background": "light"
          }
        }
      ]
    },
    {
      "cell_type": "markdown",
      "metadata": {
        "id": "VUb6swB8S7ks"
      },
      "source": [
        "**CONCLUSION:**\n",
        "\n",
        "In this tutorial we have learned about the defintion of PyTorch, the pros and the cons, and it's comparison with Tensorflow. We have explored building Recurrent Neural Networks using PyTorch, used softmax activation and Cross entropy to predict loss, calculated loss and accuracy based on number of iterations using specific parameters, and compared and visualized the number of iteration vs loss and accuracy vs number iteration. PyTorch is very dynamic and easy to debug and I will definately use it again for other projects. "
      ]
    },
    {
      "cell_type": "markdown",
      "metadata": {
        "id": "5EK8XLHiKHbb"
      },
      "source": [
        "**SOURCES:**\n",
        "\n",
        "    DATAI TEAM(n.d).Recurrent Neural Network with Pytorch, Version 51. Retrieved May 5, 2020, from https://www.kaggle.com/kanncaa1/recurrent-neural-network-with-pytorch/data\n",
        "    DATAI | Kaggle. (n.d.). Retrieved May 16, 2020, from https://www.kaggle.com/kanncaa1\n",
        "    Subramanian, V. (2018). Deep learning with pytorch : A practical approach to building neural network models using pytorch. Retrieved from https://ebookcentral.proquest.com/lib/umbc/detail.action?docID=5314603.\n",
        "    What is PyTorch? —PyTorch Tutorials 1.5.0 documentation. (n.d.). Retrieved May 19, 2020, from https://pytorch.org/tutorials/beginner/blitz/tensor_tutorial.html#sphx-glr-beginner-blitz-tensor-tutorial-py\n",
        "    Dubovikov, K. (2018, October 15). PyTorch vs TensorFlow—Spotting the difference. Medium. https://towardsdatascience.com/pytorch-vs-tensorflow-spotting-the-difference-25c75777377b\n"
      ]
    }
  ]
}